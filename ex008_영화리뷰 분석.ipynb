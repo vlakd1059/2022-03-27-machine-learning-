{
 "cells": [
  {
   "cell_type": "markdown",
   "id": "71392f36",
   "metadata": {},
   "source": [
    "# 문제정의\n",
    "- 영화 리뷰 데이터셋을 활용해서 긍정리뷰와 부정리뷰를 구분\n",
    "- 긍정 / 부정 리뷰에서 자주 사용되는 단어 확인"
   ]
  },
  {
   "cell_type": "markdown",
   "id": "33a86c60",
   "metadata": {},
   "source": [
    "# 데이터 수집\n",
    "- Large movie dataset 다운로드"
   ]
  },
  {
   "cell_type": "code",
   "execution_count": 132,
   "id": "ba7e998b",
   "metadata": {},
   "outputs": [],
   "source": [
    "from sklearn.datasets import load_files # 파일을 읽어오는 함수"
   ]
  },
  {
   "cell_type": "code",
   "execution_count": 133,
   "id": "d86d6a7b",
   "metadata": {},
   "outputs": [],
   "source": [
    "train_data_url = 'data/aclImdb/train'\n",
    "test_data_url = 'data/aclImdb/train'"
   ]
  },
  {
   "cell_type": "code",
   "execution_count": 134,
   "id": "376fd207",
   "metadata": {},
   "outputs": [],
   "source": [
    "reviews_train = load_files(train_data_url, shuffle = True)\n",
    "reviews_test = load_files(test_data_url, shuffle = True)"
   ]
  },
  {
   "cell_type": "code",
   "execution_count": 135,
   "id": "0edd69e4",
   "metadata": {},
   "outputs": [
    {
     "data": {
      "text/plain": [
       "dict_keys(['data', 'filenames', 'target_names', 'target', 'DESCR'])"
      ]
     },
     "execution_count": 135,
     "metadata": {},
     "output_type": "execute_result"
    }
   ],
   "source": [
    "reviews_train.keys()"
   ]
  },
  {
   "cell_type": "code",
   "execution_count": 136,
   "id": "70efbb1b",
   "metadata": {},
   "outputs": [
    {
     "data": {
      "text/plain": [
       "25000"
      ]
     },
     "execution_count": 136,
     "metadata": {},
     "output_type": "execute_result"
    }
   ],
   "source": [
    "len(reviews_train.data)"
   ]
  },
  {
   "cell_type": "code",
   "execution_count": 137,
   "id": "c6883edf",
   "metadata": {},
   "outputs": [
    {
     "data": {
      "text/plain": [
       "b\"Zero Day leads you to think, even re-think why two boys/young men would do what they did - commit mutual suicide via slaughtering their classmates. It captures what must be beyond a bizarre mode of being for two humans who have decided to withdraw from common civility in order to define their own/mutual world via coupled destruction.<br /><br />It is not a perfect movie but given what money/time the filmmaker and actors had - it is a remarkable product. In terms of explaining the motives and actions of the two young suicide/murderers it is better than 'Elephant' - in terms of being a film that gets under our 'rationalistic' skin it is a far, far better film than almost anything you are likely to see. <br /><br />Flawed but honest with a terrible honesty.\""
      ]
     },
     "execution_count": 137,
     "metadata": {},
     "output_type": "execute_result"
    }
   ],
   "source": [
    "reviews_train.data[0]"
   ]
  },
  {
   "cell_type": "code",
   "execution_count": 138,
   "id": "3020c222",
   "metadata": {},
   "outputs": [
    {
     "data": {
      "text/plain": [
       "array([1, 0, 1, ..., 0, 0, 0])"
      ]
     },
     "execution_count": 138,
     "metadata": {},
     "output_type": "execute_result"
    }
   ],
   "source": [
    "reviews_train.target"
   ]
  },
  {
   "cell_type": "markdown",
   "id": "a4752474",
   "metadata": {},
   "source": [
    "# 데이터 전처리"
   ]
  },
  {
   "cell_type": "code",
   "execution_count": 139,
   "id": "11543261",
   "metadata": {},
   "outputs": [
    {
     "data": {
      "text/plain": [
       "b\"Zero Day leads you to think, even re-think why two boys/young men would do what they did - commit mutual suicide via slaughtering their classmates. It captures what must be beyond a bizarre mode of being for two humans who have decided to withdraw from common civility in order to define their own/mutual world via coupled destruction.<br /><br />It is not a perfect movie but given what money/time the filmmaker and actors had - it is a remarkable product. In terms of explaining the motives and actions of the two young suicide/murderers it is better than 'Elephant' - in terms of being a film that gets under our 'rationalistic' skin it is a far, far better film than almost anything you are likely to see. <br /><br />Flawed but honest with a terrible honesty.\""
      ]
     },
     "execution_count": 139,
     "metadata": {},
     "output_type": "execute_result"
    }
   ],
   "source": [
    "reviews_train.data[0]"
   ]
  },
  {
   "cell_type": "markdown",
   "id": "92ef3121",
   "metadata": {},
   "source": [
    "## 태그 제거\n",
    "- br태그를 띄어쓰기로 변경\n",
    "- replace"
   ]
  },
  {
   "cell_type": "code",
   "execution_count": 140,
   "id": "6fbb43a6",
   "metadata": {},
   "outputs": [
    {
     "data": {
      "text/plain": [
       "b\"Zero Day leads you to think, even re-think why two boys/young men would do what they did - commit mutual suicide via slaughtering their classmates. It captures what must be beyond a bizarre mode of being for two humans who have decided to withdraw from common civility in order to define their own/mutual world via coupled destruction.  It is not a perfect movie but given what money/time the filmmaker and actors had - it is a remarkable product. In terms of explaining the motives and actions of the two young suicide/murderers it is better than 'Elephant' - in terms of being a film that gets under our 'rationalistic' skin it is a far, far better film than almost anything you are likely to see.   Flawed but honest with a terrible honesty.\""
      ]
     },
     "execution_count": 140,
     "metadata": {},
     "output_type": "execute_result"
    }
   ],
   "source": [
    "reviews_train.data[0].replace(b\"<br />\",b\" \")"
   ]
  },
  {
   "cell_type": "code",
   "execution_count": 141,
   "id": "630b8c29",
   "metadata": {},
   "outputs": [],
   "source": [
    "X_train = reviews_train.data[:1000]\n",
    "X_test = reviews_test.data[:1000]"
   ]
  },
  {
   "cell_type": "code",
   "execution_count": 142,
   "id": "d1474f8c",
   "metadata": {},
   "outputs": [],
   "source": [
    "y_train = reviews_train.target[:1000]\n",
    "y_test = reviews_test.target[:1000]"
   ]
  },
  {
   "cell_type": "code",
   "execution_count": 143,
   "id": "11ed0f79",
   "metadata": {},
   "outputs": [],
   "source": [
    "X_train = [ txt.replace(b\"<br />\", b\" \")  for txt in X_train ]\n",
    "X_test = [ txt.replace(b\"<br />\", b\" \")  for txt in X_test ]"
   ]
  },
  {
   "cell_type": "code",
   "execution_count": 144,
   "id": "3b957eb2",
   "metadata": {},
   "outputs": [],
   "source": [
    "# X_train = []\n",
    "# for txt in X_train:\n",
    "#    X_train.append(txt.replace(b\"<br />\", b\" \"))"
   ]
  },
  {
   "cell_type": "markdown",
   "id": "19244ed1",
   "metadata": {},
   "source": [
    "## 토큰화\n",
    "- BOW : 문장을 단위로 수치화 해주는 작업"
   ]
  },
  {
   "cell_type": "markdown",
   "id": "65cbe4e0",
   "metadata": {},
   "source": [
    "### 예시"
   ]
  },
  {
   "cell_type": "code",
   "execution_count": 145,
   "id": "8ef643eb",
   "metadata": {},
   "outputs": [],
   "source": [
    "from sklearn.feature_extraction.text import CountVectorizer #BOW"
   ]
  },
  {
   "cell_type": "code",
   "execution_count": 146,
   "id": "a343428b",
   "metadata": {},
   "outputs": [],
   "source": [
    "testBOW = CountVectorizer()"
   ]
  },
  {
   "cell_type": "code",
   "execution_count": 147,
   "id": "501f0913",
   "metadata": {},
   "outputs": [],
   "source": [
    "text = [\n",
    "    '혹시 자소서 포함된 이력서 , 자소서 양식을 미리 받아볼수 있나요?',\n",
    "    '다음주월욜에 하는게 자소서가 좀 적혀있어야 한다는거죠..?',\n",
    "    '강의실 하나에서 다 모여서 진행하는건가요?',\n",
    "    '혜정이가 카드 스티커 모으는 거 좋아해요'        \n",
    "]"
   ]
  },
  {
   "cell_type": "code",
   "execution_count": 148,
   "id": "d70bc10e",
   "metadata": {},
   "outputs": [
    {
     "data": {
      "text/plain": [
       "CountVectorizer()"
      ]
     },
     "execution_count": 148,
     "metadata": {},
     "output_type": "execute_result"
    }
   ],
   "source": [
    "testBOW.fit(text) # 단어사전 구축, 토큰화"
   ]
  },
  {
   "cell_type": "code",
   "execution_count": 149,
   "id": "ecc601fa",
   "metadata": {},
   "outputs": [
    {
     "data": {
      "text/plain": [
       "{'혹시': 21,\n",
       " '자소서': 10,\n",
       " '포함된': 16,\n",
       " '이력서': 8,\n",
       " '양식을': 7,\n",
       " '미리': 4,\n",
       " '받아볼수': 5,\n",
       " '있나요': 9,\n",
       " '다음주월욜에': 1,\n",
       " '하는게': 18,\n",
       " '자소서가': 11,\n",
       " '적혀있어야': 12,\n",
       " '한다는거죠': 19,\n",
       " '강의실': 0,\n",
       " '하나에서': 17,\n",
       " '모여서': 2,\n",
       " '진행하는건가요': 14,\n",
       " '혜정이가': 20,\n",
       " '카드': 15,\n",
       " '스티커': 6,\n",
       " '모으는': 3,\n",
       " '좋아해요': 13}"
      ]
     },
     "execution_count": 149,
     "metadata": {},
     "output_type": "execute_result"
    }
   ],
   "source": [
    "testBOW.vocabulary_ # 단어사전"
   ]
  },
  {
   "cell_type": "code",
   "execution_count": 150,
   "id": "810c6d4d",
   "metadata": {},
   "outputs": [
    {
     "data": {
      "text/plain": [
       "<4x22 sparse matrix of type '<class 'numpy.int64'>'\n",
       "\twith 22 stored elements in Compressed Sparse Row format>"
      ]
     },
     "execution_count": 150,
     "metadata": {},
     "output_type": "execute_result"
    }
   ],
   "source": [
    "testBOW.transform(text) # 수치화, 벡터화"
   ]
  },
  {
   "cell_type": "code",
   "execution_count": 151,
   "id": "18bf7531",
   "metadata": {},
   "outputs": [
    {
     "data": {
      "text/plain": [
       "array([[0, 0, 0, 0, 1, 1, 0, 1, 1, 1, 2, 0, 0, 0, 0, 0, 1, 0, 0, 0, 0, 1],\n",
       "       [0, 1, 0, 0, 0, 0, 0, 0, 0, 0, 0, 1, 1, 0, 0, 0, 0, 0, 1, 1, 0, 0],\n",
       "       [1, 0, 1, 0, 0, 0, 0, 0, 0, 0, 0, 0, 0, 0, 1, 0, 0, 1, 0, 0, 0, 0],\n",
       "       [0, 0, 0, 1, 0, 0, 1, 0, 0, 0, 0, 0, 0, 1, 0, 1, 0, 0, 0, 0, 1, 0]],\n",
       "      dtype=int64)"
      ]
     },
     "execution_count": 151,
     "metadata": {},
     "output_type": "execute_result"
    }
   ],
   "source": [
    "testBOW.transform(text).toarray()"
   ]
  },
  {
   "cell_type": "markdown",
   "id": "d9880adc",
   "metadata": {},
   "source": [
    "### 실제 데이터 적용"
   ]
  },
  {
   "cell_type": "code",
   "execution_count": 152,
   "id": "9ab0b030",
   "metadata": {},
   "outputs": [],
   "source": [
    "movie_bow = CountVectorizer(min_df = 20, max_df = 2000, ngram_range = (1,3))\n",
    "movie_bow.fit(X_train)\n",
    "X_train = movie_bow.transform(X_train)\n",
    "X_test = movie_bow.transform(X_test)"
   ]
  },
  {
   "cell_type": "code",
   "execution_count": 153,
   "id": "696170b5",
   "metadata": {},
   "outputs": [
    {
     "data": {
      "text/plain": [
       "(1000, 1818)"
      ]
     },
     "execution_count": 153,
     "metadata": {},
     "output_type": "execute_result"
    }
   ],
   "source": [
    "X_train.shape"
   ]
  },
  {
   "cell_type": "markdown",
   "id": "cf73ba93",
   "metadata": {},
   "source": [
    "# 탐색적 데이터 분석"
   ]
  },
  {
   "cell_type": "markdown",
   "id": "48feab26",
   "metadata": {},
   "source": [
    "# 모델 선택 및 하이퍼 파라미터 튜닝"
   ]
  },
  {
   "cell_type": "code",
   "execution_count": 154,
   "id": "60fdb750",
   "metadata": {},
   "outputs": [],
   "source": [
    "from sklearn.tree import DecisionTreeClassifier\n",
    "from sklearn.neighbors import KNeighborsClassifier\n",
    "from sklearn.svm import LinearSVC"
   ]
  },
  {
   "cell_type": "code",
   "execution_count": 155,
   "id": "29ebb91f",
   "metadata": {},
   "outputs": [],
   "source": [
    "tree = DecisionTreeClassifier()\n",
    "svm = LinearSVC()\n",
    "knn = KNeighborsClassifier()"
   ]
  },
  {
   "cell_type": "markdown",
   "id": "77183018",
   "metadata": {},
   "source": [
    "## 교차검증"
   ]
  },
  {
   "cell_type": "code",
   "execution_count": 156,
   "id": "e8ee89cb",
   "metadata": {},
   "outputs": [],
   "source": [
    "from sklearn.model_selection import cross_val_score"
   ]
  },
  {
   "cell_type": "code",
   "execution_count": 157,
   "id": "ab8d067c",
   "metadata": {},
   "outputs": [
    {
     "data": {
      "text/plain": [
       "0.656"
      ]
     },
     "execution_count": 157,
     "metadata": {},
     "output_type": "execute_result"
    }
   ],
   "source": [
    "cross_val_score(tree, X_train, y_train, cv = 5).mean()"
   ]
  },
  {
   "cell_type": "code",
   "execution_count": 158,
   "id": "8233691a",
   "metadata": {},
   "outputs": [
    {
     "data": {
      "text/plain": [
       "0.776"
      ]
     },
     "execution_count": 158,
     "metadata": {},
     "output_type": "execute_result"
    }
   ],
   "source": [
    "cross_val_score(svm, X_train, y_train, cv = 5).mean()"
   ]
  },
  {
   "cell_type": "code",
   "execution_count": 159,
   "id": "5e59f22e",
   "metadata": {},
   "outputs": [
    {
     "data": {
      "text/plain": [
       "0.59"
      ]
     },
     "execution_count": 159,
     "metadata": {},
     "output_type": "execute_result"
    }
   ],
   "source": [
    "cross_val_score(knn, X_train, y_train, cv = 5).mean()"
   ]
  },
  {
   "cell_type": "markdown",
   "id": "6cef91f2",
   "metadata": {},
   "source": [
    "# 학습"
   ]
  },
  {
   "cell_type": "code",
   "execution_count": 160,
   "id": "136de26d",
   "metadata": {},
   "outputs": [
    {
     "data": {
      "text/plain": [
       "LinearSVC()"
      ]
     },
     "execution_count": 160,
     "metadata": {},
     "output_type": "execute_result"
    }
   ],
   "source": [
    "svm.fit(X_train, y_train)"
   ]
  },
  {
   "cell_type": "markdown",
   "id": "bbd01182",
   "metadata": {},
   "source": [
    "# 평가"
   ]
  },
  {
   "cell_type": "code",
   "execution_count": 161,
   "id": "db0c6f93",
   "metadata": {},
   "outputs": [
    {
     "data": {
      "text/plain": [
       "1.0"
      ]
     },
     "execution_count": 161,
     "metadata": {},
     "output_type": "execute_result"
    }
   ],
   "source": [
    "svm.score(X_train, y_train)"
   ]
  },
  {
   "cell_type": "code",
   "execution_count": 162,
   "id": "51d80485",
   "metadata": {},
   "outputs": [
    {
     "data": {
      "text/plain": [
       "1.0"
      ]
     },
     "execution_count": 162,
     "metadata": {},
     "output_type": "execute_result"
    }
   ],
   "source": [
    "svm.score(X_test, y_test)"
   ]
  },
  {
   "cell_type": "markdown",
   "id": "ae9187e9",
   "metadata": {},
   "source": [
    "## 예측\n",
    "- 예측 데이터도 순서대로 처리해주어야함\n",
    "- 데이터 > 토큰화 > 수치화"
   ]
  },
  {
   "cell_type": "code",
   "execution_count": 163,
   "id": "d1ff3055",
   "metadata": {},
   "outputs": [],
   "source": [
    "reviews = [\"Wow. This is one of the most mind bending things in media. It makes Age Of Ultron better, it is very funny, the characters are so suprising and it also plays well into the MCU in other ways. The episode before the final one has great writing and the final showdowns are like watching an MCU film. This whole thing would be great as an MCU film, the way it plays. The return of people blipped also was interesting here and the story of Infinity War playing into the Vision storyline and how Wanda really just wanted more time with him. It is defismtly emotional and touching. Disney+ started off right with their first MCU tie in. The moral of this is that it seems to expose witchcraft rather then embrace it, which is good. (It might be exposing it). Jesus is our only hope.\",\n",
    "            \"\"\" \"We are an unusual couple, you know.\" \"Oh, I don't think that was ever in question.\" Now, before I begin, there are many opinions of this show. Many fans and people just introduced to the MCU have strong opinions which has made this a very divided addition to the MCU. Critically, it's been praised and there aren't many people who don't like it. But with the unique approach, some have been upset for such the high ratings. What I'm trying to say is I ask you to bear with me and respect my opinion. If you differ with it, there's nothing you can do to change my mind. The absolute masterpiece that is WandaVision blends the style of classic sitcoms with the MCU, in which Wanda Maximoff and Vision - two super-powered beings living their ideal suburban lives - begin to suspect that everything is not as it seems. From that teaser at the Super Bowl (I believe) over a year ago, this had been something exciting to look forward to. Literally no one knew what this would be about going in, really. I refrained from all trailers to go in as blind as possible. What I got was more than what I could imagine. Trying something new is what I've hoped for in the MCU for a while. As much as I do love a good majority of their movies, there's a fixed setup for almost all. WandaVision is something totally different and just what we needed. Had this been a show outside of the MCU, I think it would still be brilliant. Each episode is designed to go through a different era of television. How they handled it worked incredibly well. There's not a way of trying to modernize these old sitcoms from the 1950s and so forth, so it's like a replication of classic television. The sets, costumes, and camera lens and moment are amazing at doing so. One of my favorite games while watching is trying to see what show this episode was mainly based on. Accomplishing this couldn't have been easy and I applaud them for how they managed to get the feel of each era perfectly. At the heart of this story are amazing performances. Elizabeth Olson hasn't had such an amazing display of acting since Martha Marcy May Marlene. So much emotion is put forth into Wanda that she is by far the most developed character in the MCU even if she came in late. There are some really heavy scenes and she portrayed those flawlessly. It doesn't feel much like watching a magical being, but we understand she's just another person in this world. Scene 8 showcases it all. Alongside her is Paul Bettany. With his character of Vision — a literal computer-god-being — it's hard to get complete range. He has such a good start with the series by delivering comedy. He's really funny in it (and Olsen too). Once the mystery starts to unfold, he builds more and more character until episode 5 when he unleashes his full capabilities. Never has Vision felt so human before. I'd also like to highlight Kathryn Hahn, because she's such an amazing actress. Playing the nosy-neighbor of Agnes must've been such a fun time. She takes up all the screen time she can get. I won't spoil a thing, but later on in the series she gets her moment — literally everyone's favorite moment — and you just love her even more. Teyonah Paris, Kat Dennings, and Randall Park also do well with their supporting roles. This is an ensemble piece for sure and the way they work off of each other shows dedication. It's hard to discuss so much without spoiling because certain things do need to be addressed, but I shall refrain. Story is where people have been divided. Some thought it took way too long to get into, and I just don't see why. It's a series, not a movie, so setup is much different. And if it were to have moved on quickly, the mystery element would've lost its momentum. Every episode has some sort of question leading up to the finale. That's where fan theories came in and caused even more disappointments. I support fan theories, but I don't base my expectation on the rest of the show. Even if I had some hopeful thoughts, I never expected them to show up later on. With expectation, you can only be disappointed. My suggestion is to not have anything in mind when going in. Questions kept building and that's what made this the most gripping show I had seen in such a long time. I would stay up till 2 a.m. for the release of the new episodes because I just had to know what would come next. With a series, there was more time to develop and think about plot and character. Most importantly, though, there was enough time to build upon the past episodes and make an enjoyable time for both the sitcom moments and the Marvel storyline. Sure, not every episode is as great as the one before or after. I don't think you'll ever find a show with each episode being perfect as ever. Take a highly regarded show like Breaking Bad. Many think of it as a perfect show, but it's not like they think every episode is perfect. To quote Steven Universe, one of my favorite shows, \"if every pork chop were perfect, we wouldn't have hotdogs.\" If every episode were perfect, it wouldn't have that range that it has. I don't grade a show based on each episode, but rather as a whole. And throughout the duration of WandaVision, I had an absolute blast. Marvel, Matt Shakman, and the whole crew made something unforgettable. I believe this to be the greatest thing the MCU has given us. There will never be a show quite like WandaVision. Only a few shows have gotten my perfect rating, and this ranks among them. \"\"\" ,\n",
    "          ''' ( SPOILERS) Absolute garbage and a waste of time. Full of plot twists that end up being nothing. Vision having holes in his body had nothing to do with the plot. Pietro having holes in his body had nothing to do with the plot. Pietro being from X'men was just a random coincidence. Also, every time a new male character walked into the show you knew he was either a wimp or evil. They even made pietros real last name \"bohner\" to make fun of manhood. Imagine if a female character everyone was stoked on turned out to be some random lady named \"Vachina\". Also, the physical vision just flew off for no reason, and digital vision never decided to tell wanda about his existence. Why? Lazy writing. Additionally at the end rhambeaou tells wanda \"they will never know what you sacrificed\". What the heck?! Like maybe apologize for trapping and tormenting these people every day for like a month. How on earth is wanda the victim or the \"good-guy\" in this show. She is literally a villain causing everyone pain, but it is \"ok\" because she did it out of a place of pain. Im sorry, almost all villains do evil out of a place of pain, that doesnt make it ok. Stupid, sexist show with bad plot that treats its audience like idiots. '''\n",
    "          ]"
   ]
  },
  {
   "cell_type": "code",
   "execution_count": 164,
   "id": "5a9cdcbc",
   "metadata": {},
   "outputs": [],
   "source": [
    "pred_review = movie_bow.transform(reviews) # 토큰화 및 수치화"
   ]
  },
  {
   "cell_type": "code",
   "execution_count": 165,
   "id": "38468b1b",
   "metadata": {},
   "outputs": [
    {
     "data": {
      "text/plain": [
       "array([1, 1, 0])"
      ]
     },
     "execution_count": 165,
     "metadata": {},
     "output_type": "execute_result"
    }
   ],
   "source": [
    "svm.predict(pred_review)"
   ]
  },
  {
   "cell_type": "markdown",
   "id": "67d5c84f",
   "metadata": {},
   "source": [
    "## 감성분석\n",
    "- 어떤 단어가 긍정/부정에 영향을 많이 주었는지 확인"
   ]
  },
  {
   "cell_type": "code",
   "execution_count": 166,
   "id": "030bc66a",
   "metadata": {},
   "outputs": [],
   "source": [
    "word_weight = svm.coef_"
   ]
  },
  {
   "cell_type": "code",
   "execution_count": 167,
   "id": "8d25f035",
   "metadata": {},
   "outputs": [
    {
     "data": {
      "text/plain": [
       "array([[ 0.00429925, -0.10618012,  0.03447702, ..., -0.05016946,\n",
       "        -0.04790381, -0.07472492]])"
      ]
     },
     "execution_count": 167,
     "metadata": {},
     "output_type": "execute_result"
    }
   ],
   "source": [
    "word_weight"
   ]
  },
  {
   "cell_type": "code",
   "execution_count": 168,
   "id": "3f77b95f",
   "metadata": {},
   "outputs": [
    {
     "data": {
      "text/plain": [
       "{'day': 313,\n",
       " 'leads': 805,\n",
       " 'you': 1799,\n",
       " 'to': 1562,\n",
       " 'think': 1521,\n",
       " 'even': 396,\n",
       " 're': 1172,\n",
       " 'why': 1748,\n",
       " 'two': 1623,\n",
       " 'young': 1813,\n",
       " 'men': 898,\n",
       " 'would': 1783,\n",
       " 'do': 339,\n",
       " 'what': 1715,\n",
       " 'they': 1511,\n",
       " 'did': 328,\n",
       " 'their': 1496,\n",
       " 'it': 734,\n",
       " 'must': 955,\n",
       " 'be': 163,\n",
       " 'beyond': 189,\n",
       " 'of': 1006,\n",
       " 'being': 180,\n",
       " 'for': 487,\n",
       " 'who': 1738,\n",
       " 'have': 582,\n",
       " 'decided': 319,\n",
       " 'from': 510,\n",
       " 'in': 662,\n",
       " 'order': 1075,\n",
       " 'own': 1095,\n",
       " 'world': 1777,\n",
       " 'is': 705,\n",
       " 'not': 985,\n",
       " 'perfect': 1110,\n",
       " 'movie': 931,\n",
       " 'but': 213,\n",
       " 'given': 538,\n",
       " 'money': 917,\n",
       " 'time': 1555,\n",
       " 'the': 1407,\n",
       " 'and': 57,\n",
       " 'actors': 19,\n",
       " 'had': 563,\n",
       " 'remarkable': 1190,\n",
       " 'better': 185,\n",
       " 'than': 1384,\n",
       " 'film': 455,\n",
       " 'that': 1387,\n",
       " 'gets': 531,\n",
       " 'under': 1628,\n",
       " 'our': 1082,\n",
       " 'far': 438,\n",
       " 'almost': 41,\n",
       " 'anything': 99,\n",
       " 'are': 106,\n",
       " 'see': 1236,\n",
       " 'with': 1753,\n",
       " 'terrible': 1383,\n",
       " 'to think': 1590,\n",
       " 'what they': 1720,\n",
       " 'must be': 956,\n",
       " 'who have': 1741,\n",
       " 'their own': 1497,\n",
       " 'it is': 746,\n",
       " 'is not': 718,\n",
       " 'movie but': 933,\n",
       " 'time the': 1558,\n",
       " 'of the': 1022,\n",
       " 'the two': 1486,\n",
       " 'better than': 186,\n",
       " 'film that': 462,\n",
       " 'you are': 1800,\n",
       " 'to see': 1584,\n",
       " 'it is not': 747,\n",
       " 'words': 1772,\n",
       " 'can': 234,\n",
       " 'how': 637,\n",
       " 'bad': 156,\n",
       " 'this': 1527,\n",
       " 'explain': 420,\n",
       " 'by': 227,\n",
       " 'writing': 1789,\n",
       " 'only': 1064,\n",
       " 'too': 1600,\n",
       " 'yourself': 1817,\n",
       " 'get': 528,\n",
       " 'at': 135,\n",
       " 'horrible': 631,\n",
       " 'really': 1179,\n",
       " 'recommend': 1184,\n",
       " 'there': 1503,\n",
       " 'so': 1297,\n",
       " 'many': 878,\n",
       " 'all': 34,\n",
       " 'other': 1078,\n",
       " 'things': 1520,\n",
       " 'imagine': 658,\n",
       " 'here': 608,\n",
       " 'will': 1750,\n",
       " 'just': 774,\n",
       " 'make': 866,\n",
       " 'start': 1332,\n",
       " 'first': 478,\n",
       " 'lot': 845,\n",
       " 'won': 1768,\n",
       " 'list': 828,\n",
       " 'them': 1498,\n",
       " 'mention': 899,\n",
       " 'didn': 330,\n",
       " 'show': 1279,\n",
       " 'an': 55,\n",
       " 'instead': 695,\n",
       " 'used': 1643,\n",
       " 'original': 1076,\n",
       " 'very': 1655,\n",
       " 'plot': 1132,\n",
       " 'stupid': 1351,\n",
       " 'has': 576,\n",
       " 'been': 175,\n",
       " 'done': 349,\n",
       " 'times': 1560,\n",
       " 'before': 176,\n",
       " 'much': 948,\n",
       " 'ridiculous': 1202,\n",
       " 'moments': 916,\n",
       " 'lost': 844,\n",
       " 'early': 364,\n",
       " 'also': 46,\n",
       " 'was': 1678,\n",
       " 'on': 1049,\n",
       " 'guys': 562,\n",
       " 'side': 1283,\n",
       " 'because': 168,\n",
       " 'good': 550,\n",
       " 'were': 1714,\n",
       " 'should': 1276,\n",
       " 'without': 1765,\n",
       " 'doubt': 350,\n",
       " 'choice': 263,\n",
       " 'over': 1092,\n",
       " 'one': 1057,\n",
       " 'movies': 944,\n",
       " 'fact': 425,\n",
       " 'every': 406,\n",
       " 'this movie': 1536,\n",
       " 'movie is': 937,\n",
       " 'you have': 1804,\n",
       " 'see it': 1238,\n",
       " 'it for': 743,\n",
       " 'to get': 1568,\n",
       " 'of how': 1015,\n",
       " 'can be': 235,\n",
       " 'to do': 1566,\n",
       " 'that there': 1400,\n",
       " 'there are': 1504,\n",
       " 'are so': 110,\n",
       " 'so many': 1300,\n",
       " 'and all': 58,\n",
       " 'you can': 1801,\n",
       " 'with the': 1762,\n",
       " 'lot of': 846,\n",
       " 'to show': 1587,\n",
       " 'in the': 677,\n",
       " 'the original': 1461,\n",
       " 'the plot': 1464,\n",
       " 'plot is': 1133,\n",
       " 'and has': 63,\n",
       " 'has been': 577,\n",
       " 'much better': 949,\n",
       " 'of it': 1016,\n",
       " 'it really': 754,\n",
       " 'on the': 1053,\n",
       " 'the bad': 1413,\n",
       " 'all the': 39,\n",
       " 'the time': 1483,\n",
       " 'the movie': 1452,\n",
       " 'because the': 171,\n",
       " 'the good': 1440,\n",
       " 'you re': 1808,\n",
       " 'this one': 1539,\n",
       " 'even the': 399,\n",
       " 'in fact': 666,\n",
       " 'movie in': 936,\n",
       " 'the world': 1492,\n",
       " 'than this': 1386,\n",
       " 'this movie is': 1537,\n",
       " 'the plot is': 1465,\n",
       " 'in the movie': 681,\n",
       " 'in the world': 683,\n",
       " 'everyone': 407,\n",
       " 'plays': 1128,\n",
       " 'part': 1097,\n",
       " 'pretty': 1151,\n",
       " 'well': 1711,\n",
       " 'little': 829,\n",
       " 'nice': 977,\n",
       " 'chance': 248,\n",
       " 'live': 830,\n",
       " 'his': 620,\n",
       " 'life': 816,\n",
       " 'ends': 381,\n",
       " 'up': 1633,\n",
       " 'he': 594,\n",
       " 'going': 547,\n",
       " 'as': 117,\n",
       " 'or': 1071,\n",
       " 'maybe': 887,\n",
       " 'shows': 1282,\n",
       " 'us': 1640,\n",
       " 'we': 1705,\n",
       " 'take': 1368,\n",
       " 'ones': 1063,\n",
       " 'cannot': 237,\n",
       " 'if': 649,\n",
       " 'video': 1659,\n",
       " 'around': 114,\n",
       " '10': 0,\n",
       " 'in this': 685,\n",
       " 'chance to': 249,\n",
       " 'part of': 1098,\n",
       " 'of his': 1014,\n",
       " 'his life': 622,\n",
       " 'what he': 1716,\n",
       " 'he had': 597,\n",
       " 'going to': 548,\n",
       " 'to be': 1563,\n",
       " 'just as': 775,\n",
       " 'as good': 120,\n",
       " 'that we': 1404,\n",
       " 'to take': 1588,\n",
       " 'we have': 1707,\n",
       " 'not the': 994,\n",
       " 'do not': 340,\n",
       " 'highly': 613,\n",
       " 'talented': 1374,\n",
       " 'filmmakers': 469,\n",
       " 'now': 999,\n",
       " 'none': 982,\n",
       " 'producers': 1158,\n",
       " 'actually': 22,\n",
       " 'something': 1308,\n",
       " 'like': 820,\n",
       " 'could': 291,\n",
       " 'made': 858,\n",
       " 'films': 470,\n",
       " 'budget': 210,\n",
       " 'entertaining': 388,\n",
       " 'running': 1212,\n",
       " 'funny': 518,\n",
       " 'though': 1545,\n",
       " 'happens': 571,\n",
       " 'guy': 561,\n",
       " 'bunch': 211,\n",
       " 'playing': 1127,\n",
       " 'saying': 1222,\n",
       " 'supposed': 1361,\n",
       " 'laugh': 801,\n",
       " 'hard': 573,\n",
       " 'believe': 182,\n",
       " 'crap': 301,\n",
       " 'comedy': 276,\n",
       " 'people': 1107,\n",
       " 'left': 811,\n",
       " 'cinema': 264,\n",
       " '30': 2,\n",
       " 'minutes': 909,\n",
       " 'into': 701,\n",
       " 'same': 1216,\n",
       " 'my': 958,\n",
       " 'none of': 983,\n",
       " 'of them': 1032,\n",
       " 'with this': 1763,\n",
       " 'like this': 823,\n",
       " 'you could': 1802,\n",
       " 'could have': 293,\n",
       " 'have made': 586,\n",
       " 'of this': 1034,\n",
       " 'it not': 750,\n",
       " 'to have': 1571,\n",
       " 'what is': 1717,\n",
       " 'is that': 726,\n",
       " 'that the': 1399,\n",
       " 'the film': 1432,\n",
       " 'be the': 164,\n",
       " 'film is': 460,\n",
       " 'supposed to': 1362,\n",
       " 'hard to': 574,\n",
       " 'to believe': 1565,\n",
       " 'believe that': 183,\n",
       " 'that this': 1402,\n",
       " 'up and': 1634,\n",
       " 'into the': 702,\n",
       " 'should have': 1278,\n",
       " 'the same': 1472,\n",
       " 'instead of': 696,\n",
       " 'is that the': 727,\n",
       " 'to be the': 1564,\n",
       " 'the film is': 1433,\n",
       " 'supposed to be': 1363,\n",
       " 've': 1650,\n",
       " 'kids': 781,\n",
       " 'put': 1162,\n",
       " 'dvd': 360,\n",
       " 'fantastic': 436,\n",
       " 'state': 1335,\n",
       " 'art': 116,\n",
       " 'screen': 1231,\n",
       " 'home': 628,\n",
       " 'entertainment': 389,\n",
       " 'type': 1624,\n",
       " 'deal': 316,\n",
       " 'seen': 1248,\n",
       " 'moment': 915,\n",
       " 'most': 923,\n",
       " 'felt': 447,\n",
       " 'whole': 1744,\n",
       " 'after': 27,\n",
       " 'started': 1333,\n",
       " 'some': 1303,\n",
       " 'others': 1080,\n",
       " 'call': 230,\n",
       " 'when': 1723,\n",
       " 'appears': 104,\n",
       " 'hour': 634,\n",
       " 'half': 567,\n",
       " 'girls': 534,\n",
       " 'still': 1337,\n",
       " 'came': 232,\n",
       " 'back': 153,\n",
       " 'open': 1068,\n",
       " 'thought': 1547,\n",
       " 'scene': 1225,\n",
       " 'hours': 635,\n",
       " 'waiting': 1669,\n",
       " 'thing': 1519,\n",
       " 'about': 5,\n",
       " 'rest': 1193,\n",
       " 'similar': 1285,\n",
       " 'takes': 1370,\n",
       " 'place': 1122,\n",
       " 'within': 1764,\n",
       " 'period': 1115,\n",
       " 'look': 837,\n",
       " 'hands': 569,\n",
       " 'room': 1210,\n",
       " 'find': 473,\n",
       " 'storyline': 1344,\n",
       " 'thin': 1518,\n",
       " 'real': 1175,\n",
       " 'focus': 484,\n",
       " 'special': 1323,\n",
       " 'effects': 370,\n",
       " 'opening': 1069,\n",
       " 'went': 1713,\n",
       " 'become': 173,\n",
       " 'know': 788,\n",
       " 'had the': 565,\n",
       " 'bunch of': 212,\n",
       " 'the dvd': 1424,\n",
       " 'seen it': 1250,\n",
       " 'but they': 224,\n",
       " 'seen the': 1251,\n",
       " 'most of': 924,\n",
       " 'they had': 1514,\n",
       " 'the whole': 1490,\n",
       " 'after the': 28,\n",
       " 'some of': 1304,\n",
       " 'when the': 1726,\n",
       " 'only the': 1066,\n",
       " 'back to': 154,\n",
       " 'see the': 1239,\n",
       " 'the scene': 1473,\n",
       " 'is this': 729,\n",
       " 'for the': 497,\n",
       " 'about the': 7,\n",
       " 'the rest': 1468,\n",
       " 'rest of': 1194,\n",
       " 'in that': 676,\n",
       " 'of time': 1038,\n",
       " 'how to': 639,\n",
       " 'look at': 838,\n",
       " 'at the': 139,\n",
       " 'the first': 1437,\n",
       " 'if you': 655,\n",
       " 'is so': 724,\n",
       " 'that they': 1401,\n",
       " 'they have': 1515,\n",
       " 'have to': 591,\n",
       " 'that is': 1394,\n",
       " 'is about': 706,\n",
       " 'the real': 1467,\n",
       " 'of film': 1012,\n",
       " 'special effects': 1324,\n",
       " 'of all': 1008,\n",
       " 'all time': 40,\n",
       " 'the rest of': 1469,\n",
       " 'rest of the': 1195,\n",
       " 'in the first': 680,\n",
       " 'television': 1378,\n",
       " 'delivers': 324,\n",
       " 'great': 556,\n",
       " 'sci': 1228,\n",
       " 'fi': 450,\n",
       " 'fans': 435,\n",
       " 'series': 1258,\n",
       " 'having': 593,\n",
       " 'intelligent': 697,\n",
       " 'interesting': 700,\n",
       " 'script': 1233,\n",
       " 'doesn': 344,\n",
       " 'either': 372,\n",
       " 'favorite': 441,\n",
       " 'movie was': 942,\n",
       " 'but this': 225,\n",
       " 'sci fi': 1229,\n",
       " 'the actors': 1411,\n",
       " 'and the': 82,\n",
       " 'the special': 1479,\n",
       " 'one of': 1059,\n",
       " 'of my': 1019,\n",
       " 'my favorite': 959,\n",
       " 'the special effects': 1480,\n",
       " 'one of my': 1060,\n",
       " 'way': 1702,\n",
       " 'story': 1340,\n",
       " 'found': 505,\n",
       " 'rather': 1169,\n",
       " 'odd': 1005,\n",
       " 'through': 1551,\n",
       " 'no': 979,\n",
       " 'idea': 646,\n",
       " 'anyway': 100,\n",
       " 'line': 826,\n",
       " 'although': 48,\n",
       " 'simple': 1286,\n",
       " 'someone': 1307,\n",
       " 'love': 850,\n",
       " 'completely': 284,\n",
       " 'last': 798,\n",
       " 'go': 542,\n",
       " 'never': 974,\n",
       " 'forget': 501,\n",
       " 'kind': 786,\n",
       " 'say': 1220,\n",
       " 'am': 50,\n",
       " 'actor': 18,\n",
       " 'shown': 1281,\n",
       " 'performance': 1112,\n",
       " 'showing': 1280,\n",
       " 'between': 187,\n",
       " 'characters': 253,\n",
       " 'wish': 1752,\n",
       " 'happy': 572,\n",
       " 'ending': 380,\n",
       " 'movie has': 935,\n",
       " 'the story': 1481,\n",
       " 'as it': 123,\n",
       " 'time and': 1556,\n",
       " 'first time': 479,\n",
       " 'in love': 671,\n",
       " 'kind of': 787,\n",
       " 'between the': 188,\n",
       " 'the characters': 1421,\n",
       " 'could be': 292,\n",
       " 'the first time': 1438,\n",
       " 'single': 1290,\n",
       " 'worst': 1780,\n",
       " 'ever': 403,\n",
       " 'theater': 1495,\n",
       " 'saw': 1218,\n",
       " 'mind': 907,\n",
       " 'premise': 1149,\n",
       " 'seemed': 1244,\n",
       " 'tried': 1607,\n",
       " 'musical': 954,\n",
       " 'talent': 1373,\n",
       " 'music': 953,\n",
       " 'cheesy': 259,\n",
       " 'filming': 468,\n",
       " 'written': 1790,\n",
       " 'obvious': 1003,\n",
       " 'try': 1614,\n",
       " 'work': 1773,\n",
       " 'making': 872,\n",
       " 'right': 1203,\n",
       " 'case': 241,\n",
       " 'talking': 1376,\n",
       " 'me': 888,\n",
       " 'especially': 394,\n",
       " 'acting': 14,\n",
       " 'dialog': 326,\n",
       " 'scenes': 1226,\n",
       " 'obviously': 1004,\n",
       " 'enough': 386,\n",
       " 'while': 1735,\n",
       " 'least': 807,\n",
       " 'director': 337,\n",
       " 'admit': 25,\n",
       " 'wanted': 1673,\n",
       " 'until': 1632,\n",
       " 'added': 24,\n",
       " 'hope': 629,\n",
       " 'sure': 1364,\n",
       " 'mistake': 913,\n",
       " 'again': 29,\n",
       " 've ever': 1651,\n",
       " 'ever seen': 405,\n",
       " 'seen in': 1249,\n",
       " 'saw this': 1219,\n",
       " 'this film': 1529,\n",
       " 'and it': 71,\n",
       " 'film was': 465,\n",
       " 'it was': 761,\n",
       " 'was an': 1679,\n",
       " 'like it': 821,\n",
       " 'it could': 740,\n",
       " 'time it': 1557,\n",
       " 'tried to': 1608,\n",
       " 'the music': 1454,\n",
       " 'they were': 1517,\n",
       " 'it on': 751,\n",
       " 'and when': 91,\n",
       " 'when they': 1727,\n",
       " 'try to': 1615,\n",
       " 'to make': 1579,\n",
       " 'and you': 92,\n",
       " 'people who': 1109,\n",
       " 'not in': 990,\n",
       " 'made me': 860,\n",
       " 'and that': 81,\n",
       " 'the acting': 1408,\n",
       " 'pretty good': 1152,\n",
       " 'good but': 552,\n",
       " 'as well': 129,\n",
       " 'well as': 1712,\n",
       " 'the scenes': 1474,\n",
       " 'because they': 172,\n",
       " 'at least': 138,\n",
       " 'the director': 1423,\n",
       " 'no one': 980,\n",
       " 'the script': 1476,\n",
       " 'this film was': 1531,\n",
       " 'if you re': 657,\n",
       " 'most of the': 925,\n",
       " 'some of the': 1305,\n",
       " 'as well as': 130,\n",
       " 'giving': 541,\n",
       " 'away': 148,\n",
       " 'audience': 145,\n",
       " 'man': 874,\n",
       " 'jack': 769,\n",
       " 'murder': 952,\n",
       " 'old': 1047,\n",
       " 'years': 1795,\n",
       " 'ago': 32,\n",
       " 'then': 1501,\n",
       " 'modern': 914,\n",
       " 'couple': 297,\n",
       " 'looking': 840,\n",
       " 'house': 636,\n",
       " 'long': 836,\n",
       " 'husband': 645,\n",
       " 'figure': 454,\n",
       " 'year': 1793,\n",
       " 'woman': 1766,\n",
       " 'large': 797,\n",
       " 'straight': 1345,\n",
       " 'falls': 429,\n",
       " 'out': 1083,\n",
       " 'keeps': 778,\n",
       " 'guess': 560,\n",
       " 'becomes': 174,\n",
       " 'starts': 1334,\n",
       " 'weird': 1710,\n",
       " 'oh': 1044,\n",
       " 'baby': 152,\n",
       " 'seems': 1245,\n",
       " 'person': 1116,\n",
       " 'late': 799,\n",
       " 'body': 196,\n",
       " 'co': 273,\n",
       " 'wife': 1749,\n",
       " 'suddenly': 1357,\n",
       " 'hell': 605,\n",
       " 'knows': 792,\n",
       " 'nothing': 997,\n",
       " 'child': 261,\n",
       " 'killer': 784,\n",
       " 'sister': 1291,\n",
       " 'keep': 777,\n",
       " 'down': 351,\n",
       " 'family': 431,\n",
       " 'death': 317,\n",
       " 'mr': 947,\n",
       " 'killing': 785,\n",
       " 'does': 342,\n",
       " 'able': 3,\n",
       " 'huge': 642,\n",
       " 'powerful': 1147,\n",
       " 'him': 615,\n",
       " 'across': 11,\n",
       " 'simply': 1287,\n",
       " 'light': 818,\n",
       " 'stay': 1336,\n",
       " 'she': 1269,\n",
       " 'such': 1355,\n",
       " 'experience': 419,\n",
       " 'ask': 131,\n",
       " 'enjoyable': 384,\n",
       " 'aspect': 133,\n",
       " 'seeing': 1241,\n",
       " 'couldn': 295,\n",
       " 'mess': 900,\n",
       " 'the audience': 1412,\n",
       " 'in an': 664,\n",
       " 'years ago': 1796,\n",
       " 'up to': 1637,\n",
       " 'looking for': 841,\n",
       " 'year old': 1794,\n",
       " 'they re': 1516,\n",
       " 'by the': 229,\n",
       " 'seems to': 1246,\n",
       " 'up the': 1636,\n",
       " 'has the': 579,\n",
       " 'there is': 1506,\n",
       " 'his wife': 624,\n",
       " 'what the': 1719,\n",
       " 'was the': 1686,\n",
       " 'by his': 228,\n",
       " 'who is': 1742,\n",
       " 'get the': 529,\n",
       " 'the one': 1458,\n",
       " 'is it': 714,\n",
       " 'it the': 758,\n",
       " 'if the': 653,\n",
       " 'able to': 4,\n",
       " 'and just': 73,\n",
       " 'is the': 728,\n",
       " 'that it': 1395,\n",
       " 'it would': 765,\n",
       " 'the house': 1443,\n",
       " 'wanted to': 1674,\n",
       " 'the only': 1459,\n",
       " 'seems to be': 1247,\n",
       " 'this movie was': 1538,\n",
       " 'more': 920,\n",
       " 'known': 791,\n",
       " 'star': 1329,\n",
       " 'kill': 782,\n",
       " 'stand': 1328,\n",
       " 'was so': 1685,\n",
       " 'that he': 1393,\n",
       " 'he is': 599,\n",
       " 'over the': 1093,\n",
       " 'and his': 67,\n",
       " 'probably': 1154,\n",
       " 'want': 1671,\n",
       " 'expect': 416,\n",
       " 'don': 346,\n",
       " 'waste': 1689,\n",
       " 'your': 1815,\n",
       " 'brother': 208,\n",
       " 'killed': 783,\n",
       " 'tries': 1609,\n",
       " 'character': 251,\n",
       " 'the worst': 1493,\n",
       " 'you want': 1810,\n",
       " 'your time': 1816,\n",
       " 'with no': 1760,\n",
       " 'tries to': 1610,\n",
       " 'out the': 1089,\n",
       " 'the character': 1420,\n",
       " 'character is': 252,\n",
       " 'is just': 715,\n",
       " 'die': 331,\n",
       " 'unless': 1631,\n",
       " 'its': 767,\n",
       " 'dramatic': 354,\n",
       " 'laughable': 802,\n",
       " 'where': 1729,\n",
       " 'once': 1056,\n",
       " 'towards': 1605,\n",
       " 'please': 1129,\n",
       " 'leave': 808,\n",
       " 'myself': 961,\n",
       " 'head': 601,\n",
       " 'sit': 1292,\n",
       " 'mean': 891,\n",
       " 'seriously': 1261,\n",
       " 'produced': 1157,\n",
       " 'team': 1377,\n",
       " 'believable': 181,\n",
       " 'watch': 1691,\n",
       " 'need': 969,\n",
       " 'john': 772,\n",
       " 'out in': 1085,\n",
       " 'to go': 1570,\n",
       " 'was made': 1682,\n",
       " 'made in': 859,\n",
       " 'but it': 217,\n",
       " 'is more': 716,\n",
       " 'watch it': 1692,\n",
       " 'is to': 730,\n",
       " 'considering': 288,\n",
       " 'new': 975,\n",
       " 'hand': 568,\n",
       " 'fighting': 453,\n",
       " 'title': 1561,\n",
       " 'near': 967,\n",
       " 'let': 813,\n",
       " 'rating': 1171,\n",
       " 'overall': 1094,\n",
       " 'score': 1230,\n",
       " 'film to': 464,\n",
       " 'down the': 352,\n",
       " 'and even': 62,\n",
       " 'this was': 1542,\n",
       " 'for me': 493,\n",
       " 'or even': 1072,\n",
       " 'history': 625,\n",
       " 'any': 96,\n",
       " 'three': 1549,\n",
       " 'yet': 1798,\n",
       " 'typical': 1626,\n",
       " 'which': 1732,\n",
       " 'stars': 1331,\n",
       " 'nor': 984,\n",
       " 'forced': 500,\n",
       " 'entire': 390,\n",
       " 'her': 607,\n",
       " 'alone': 42,\n",
       " 'move': 929,\n",
       " 'off': 1041,\n",
       " 'name': 963,\n",
       " 'set': 1262,\n",
       " 'filmed': 467,\n",
       " 'black': 194,\n",
       " 'white': 1737,\n",
       " 'shot': 1274,\n",
       " 'however': 640,\n",
       " 'makes': 870,\n",
       " 'truly': 1613,\n",
       " 'herself': 610,\n",
       " 'watching': 1697,\n",
       " 'minute': 908,\n",
       " 'less': 812,\n",
       " 'voice': 1667,\n",
       " 'third': 1526,\n",
       " 'gives': 540,\n",
       " 'power': 1146,\n",
       " 'soon': 1315,\n",
       " 'follow': 485,\n",
       " 'big': 190,\n",
       " 'biggest': 191,\n",
       " 'songs': 1314,\n",
       " 'level': 815,\n",
       " 'studio': 1349,\n",
       " 'version': 1653,\n",
       " 'classic': 268,\n",
       " 'various': 1649,\n",
       " 'act': 12,\n",
       " 'kid': 780,\n",
       " 'performances': 1113,\n",
       " 'five': 481,\n",
       " 'among': 54,\n",
       " 'eventually': 402,\n",
       " 'finds': 475,\n",
       " 'fantasy': 437,\n",
       " 'lovely': 855,\n",
       " 'wonder': 1769,\n",
       " 'full': 515,\n",
       " 'begins': 178,\n",
       " 'got': 554,\n",
       " 'high': 611,\n",
       " 'points': 1136,\n",
       " 'include': 689,\n",
       " 'second': 1234,\n",
       " 'comes': 277,\n",
       " 'viewer': 1661,\n",
       " 'come': 274,\n",
       " 'form': 502,\n",
       " 'girl': 533,\n",
       " 'became': 167,\n",
       " 'best': 184,\n",
       " 'loved': 853,\n",
       " 'days': 314,\n",
       " 'credits': 304,\n",
       " 'number': 1001,\n",
       " 'indeed': 693,\n",
       " 'top': 1603,\n",
       " 'soundtrack': 1320,\n",
       " 'absolutely': 10,\n",
       " 'surprise': 1365,\n",
       " 'is still': 725,\n",
       " 'in any': 665,\n",
       " 'made the': 861,\n",
       " 'which is': 1733,\n",
       " 'is no': 717,\n",
       " 'the entire': 1429,\n",
       " 'to the': 1589,\n",
       " 'the show': 1478,\n",
       " 'watching the': 1699,\n",
       " 'through the': 1552,\n",
       " 'is nothing': 719,\n",
       " 'she is': 1271,\n",
       " 'is in': 713,\n",
       " 'that would': 1405,\n",
       " 'the big': 1416,\n",
       " 'much more': 950,\n",
       " 'version of': 1654,\n",
       " 'such as': 1356,\n",
       " 'as the': 125,\n",
       " 'and then': 83,\n",
       " 'out of': 1086,\n",
       " 'about this': 8,\n",
       " 'full of': 516,\n",
       " 'of people': 1020,\n",
       " 'it up': 760,\n",
       " 'in some': 675,\n",
       " 'when you': 1728,\n",
       " 'and this': 86,\n",
       " 'the most': 1451,\n",
       " 'the viewer': 1488,\n",
       " 'to me': 1580,\n",
       " 'me and': 889,\n",
       " 'and an': 59,\n",
       " 'the screen': 1475,\n",
       " 'she has': 1270,\n",
       " 'watching it': 1698,\n",
       " 'it all': 735,\n",
       " 'there is no': 1507,\n",
       " 'out of the': 1088,\n",
       " 'goes': 545,\n",
       " 'flat': 482,\n",
       " 'jokes': 773,\n",
       " 'battle': 162,\n",
       " 'anyone': 98,\n",
       " 'in which': 688,\n",
       " 'bad acting': 157,\n",
       " 'any of': 97,\n",
       " 'of the characters': 1025,\n",
       " 'directed': 334,\n",
       " 'starring': 1330,\n",
       " 'both': 200,\n",
       " 'charming': 257,\n",
       " 'whose': 1747,\n",
       " 'talk': 1375,\n",
       " 'trying': 1616,\n",
       " 'success': 1354,\n",
       " 'wants': 1675,\n",
       " 'moves': 930,\n",
       " 'friend': 508,\n",
       " 'era': 393,\n",
       " 'including': 690,\n",
       " 'sadly': 1214,\n",
       " 'meet': 895,\n",
       " 'another': 95,\n",
       " 'himself': 619,\n",
       " 'end': 377,\n",
       " 'shame': 1268,\n",
       " 'told': 1597,\n",
       " 'exciting': 415,\n",
       " 'hollywood': 627,\n",
       " 'wonderful': 1770,\n",
       " 'is an': 710,\n",
       " 'directed by': 335,\n",
       " 'are in': 108,\n",
       " 'acting is': 16,\n",
       " 'trying to': 1617,\n",
       " 'make it': 867,\n",
       " 'wants to': 1676,\n",
       " 'and is': 70,\n",
       " 'of her': 1013,\n",
       " 'film in': 459,\n",
       " 'in one': 674,\n",
       " 'out to': 1090,\n",
       " 'to her': 1572,\n",
       " 'the end': 1426,\n",
       " 'end of': 378,\n",
       " 'up in': 1635,\n",
       " 'he was': 600,\n",
       " 'it also': 736,\n",
       " 'part of the': 1099,\n",
       " 'of the film': 1026,\n",
       " 'at the end': 140,\n",
       " 'the end of': 1427,\n",
       " 'end of the': 379,\n",
       " 'ok': 1045,\n",
       " 'beginning': 177,\n",
       " 'looked': 839,\n",
       " 'comic': 278,\n",
       " 'result': 1196,\n",
       " 'past': 1104,\n",
       " 'example': 412,\n",
       " 'worked': 1774,\n",
       " 'different': 332,\n",
       " 'sets': 1263,\n",
       " 'doing': 345,\n",
       " 'emotional': 376,\n",
       " 'said': 1215,\n",
       " 'animation': 93,\n",
       " 'wasn': 1688,\n",
       " 'effort': 371,\n",
       " 'age': 31,\n",
       " 'yes': 1797,\n",
       " 'small': 1296,\n",
       " 'the beginning': 1414,\n",
       " 'the result': 1470,\n",
       " 'that are': 1388,\n",
       " 'to watch': 1592,\n",
       " 'so that': 1302,\n",
       " 'they can': 1513,\n",
       " 'to know': 1577,\n",
       " 'know that': 789,\n",
       " 'it as': 738,\n",
       " 'like the': 822,\n",
       " 'and we': 89,\n",
       " 'have seen': 589,\n",
       " 'it will': 763,\n",
       " 'have no': 588,\n",
       " 'ways': 1704,\n",
       " 'enjoy': 383,\n",
       " 'tv': 1621,\n",
       " 'etc': 395,\n",
       " 'monster': 918,\n",
       " 'acted': 13,\n",
       " 'works': 1776,\n",
       " 'may': 884,\n",
       " 'surprised': 1366,\n",
       " 'upon': 1639,\n",
       " 'reasons': 1181,\n",
       " 'always': 49,\n",
       " 'played': 1125,\n",
       " 'feel': 444,\n",
       " 'these': 1510,\n",
       " 'course': 299,\n",
       " 'run': 1211,\n",
       " 'cool': 289,\n",
       " 'main': 863,\n",
       " 'theme': 1499,\n",
       " 'horror': 632,\n",
       " 'sometimes': 1310,\n",
       " 'note': 996,\n",
       " 'few': 449,\n",
       " 'use': 1641,\n",
       " 'city': 267,\n",
       " 'night': 978,\n",
       " 'based': 159,\n",
       " 'supporting': 1360,\n",
       " 'seem': 1242,\n",
       " 'fall': 428,\n",
       " 'lady': 795,\n",
       " 'since': 1288,\n",
       " 'genre': 526,\n",
       " 'dad': 308,\n",
       " 'episodes': 392,\n",
       " 'copy': 290,\n",
       " 'boring': 199,\n",
       " 'getting': 532,\n",
       " 'along': 43,\n",
       " 'tension': 1382,\n",
       " 'bit': 192,\n",
       " 'remake': 1189,\n",
       " 'cult': 306,\n",
       " 'everything': 408,\n",
       " 'short': 1273,\n",
       " 'may have': 886,\n",
       " 'have been': 583,\n",
       " 'the late': 1445,\n",
       " 'and one': 76,\n",
       " 'and as': 60,\n",
       " 'and in': 69,\n",
       " 'one is': 1058,\n",
       " 'use of': 1642,\n",
       " 'and some': 80,\n",
       " 'seem to': 1243,\n",
       " 'or not': 1073,\n",
       " 'is one': 720,\n",
       " 'the new': 1455,\n",
       " 'is also': 709,\n",
       " 'where the': 1730,\n",
       " 'on this': 1054,\n",
       " 'not to': 995,\n",
       " 'about it': 6,\n",
       " 'one of the': 1061,\n",
       " 'is one of': 721,\n",
       " 'totally': 1604,\n",
       " 'living': 832,\n",
       " 'worth': 1781,\n",
       " 'those': 1543,\n",
       " 'you will': 1812,\n",
       " 'movie it': 938,\n",
       " 'those who': 1544,\n",
       " 'in this movie': 687,\n",
       " 'heart': 604,\n",
       " 'tells': 1380,\n",
       " 'impossible': 660,\n",
       " 'mother': 927,\n",
       " 'viewers': 1662,\n",
       " ...}"
      ]
     },
     "execution_count": 168,
     "metadata": {},
     "output_type": "execute_result"
    }
   ],
   "source": [
    "movie_bow.vocabulary_ # 단어사전 활용 "
   ]
  },
  {
   "cell_type": "code",
   "execution_count": 169,
   "id": "3a8441b0",
   "metadata": {},
   "outputs": [
    {
     "data": {
      "text/html": [
       "<div>\n",
       "<style scoped>\n",
       "    .dataframe tbody tr th:only-of-type {\n",
       "        vertical-align: middle;\n",
       "    }\n",
       "\n",
       "    .dataframe tbody tr th {\n",
       "        vertical-align: top;\n",
       "    }\n",
       "\n",
       "    .dataframe thead th {\n",
       "        text-align: right;\n",
       "    }\n",
       "</style>\n",
       "<table border=\"1\" class=\"dataframe\">\n",
       "  <thead>\n",
       "    <tr style=\"text-align: right;\">\n",
       "      <th></th>\n",
       "      <th>0</th>\n",
       "      <th>1</th>\n",
       "      <th>2</th>\n",
       "      <th>3</th>\n",
       "      <th>4</th>\n",
       "      <th>5</th>\n",
       "      <th>6</th>\n",
       "      <th>7</th>\n",
       "      <th>8</th>\n",
       "      <th>9</th>\n",
       "      <th>...</th>\n",
       "      <th>1808</th>\n",
       "      <th>1809</th>\n",
       "      <th>1810</th>\n",
       "      <th>1811</th>\n",
       "      <th>1812</th>\n",
       "      <th>1813</th>\n",
       "      <th>1814</th>\n",
       "      <th>1815</th>\n",
       "      <th>1816</th>\n",
       "      <th>1817</th>\n",
       "    </tr>\n",
       "  </thead>\n",
       "  <tbody>\n",
       "    <tr>\n",
       "      <th>0</th>\n",
       "      <td>day</td>\n",
       "      <td>leads</td>\n",
       "      <td>you</td>\n",
       "      <td>to</td>\n",
       "      <td>think</td>\n",
       "      <td>even</td>\n",
       "      <td>re</td>\n",
       "      <td>why</td>\n",
       "      <td>two</td>\n",
       "      <td>young</td>\n",
       "      <td>...</td>\n",
       "      <td>bring</td>\n",
       "      <td>and it is</td>\n",
       "      <td>incredibly</td>\n",
       "      <td>beauty</td>\n",
       "      <td>meant</td>\n",
       "      <td>people and</td>\n",
       "      <td>for that</td>\n",
       "      <td>for him</td>\n",
       "      <td>impressive</td>\n",
       "      <td>meant to</td>\n",
       "    </tr>\n",
       "    <tr>\n",
       "      <th>1</th>\n",
       "      <td>313</td>\n",
       "      <td>805</td>\n",
       "      <td>1799</td>\n",
       "      <td>1562</td>\n",
       "      <td>1521</td>\n",
       "      <td>396</td>\n",
       "      <td>1172</td>\n",
       "      <td>1748</td>\n",
       "      <td>1623</td>\n",
       "      <td>1813</td>\n",
       "      <td>...</td>\n",
       "      <td>205</td>\n",
       "      <td>72</td>\n",
       "      <td>692</td>\n",
       "      <td>166</td>\n",
       "      <td>893</td>\n",
       "      <td>1108</td>\n",
       "      <td>496</td>\n",
       "      <td>490</td>\n",
       "      <td>661</td>\n",
       "      <td>894</td>\n",
       "    </tr>\n",
       "  </tbody>\n",
       "</table>\n",
       "<p>2 rows × 1818 columns</p>\n",
       "</div>"
      ],
      "text/plain": [
       "  0      1     2     3      4     5     6     7     8      9     ...   1808  \\\n",
       "0  day  leads   you    to  think  even    re   why   two  young  ...  bring   \n",
       "1  313    805  1799  1562   1521   396  1172  1748  1623   1813  ...    205   \n",
       "\n",
       "        1809        1810    1811   1812        1813      1814     1815  \\\n",
       "0  and it is  incredibly  beauty  meant  people and  for that  for him   \n",
       "1         72         692     166    893        1108       496      490   \n",
       "\n",
       "         1816      1817  \n",
       "0  impressive  meant to  \n",
       "1         661       894  \n",
       "\n",
       "[2 rows x 1818 columns]"
      ]
     },
     "execution_count": 169,
     "metadata": {},
     "output_type": "execute_result"
    }
   ],
   "source": [
    "import pandas as pd\n",
    "df = pd.DataFrame([movie_bow.vocabulary_.keys(),\n",
    "                  movie_bow.vocabulary_.values()])\n",
    "df.head()"
   ]
  },
  {
   "cell_type": "code",
   "execution_count": 170,
   "id": "ec2e8775",
   "metadata": {},
   "outputs": [
    {
     "data": {
      "text/html": [
       "<div>\n",
       "<style scoped>\n",
       "    .dataframe tbody tr th:only-of-type {\n",
       "        vertical-align: middle;\n",
       "    }\n",
       "\n",
       "    .dataframe tbody tr th {\n",
       "        vertical-align: top;\n",
       "    }\n",
       "\n",
       "    .dataframe thead th {\n",
       "        text-align: right;\n",
       "    }\n",
       "</style>\n",
       "<table border=\"1\" class=\"dataframe\">\n",
       "  <thead>\n",
       "    <tr style=\"text-align: right;\">\n",
       "      <th></th>\n",
       "      <th>0</th>\n",
       "      <th>1</th>\n",
       "    </tr>\n",
       "  </thead>\n",
       "  <tbody>\n",
       "    <tr>\n",
       "      <th>0</th>\n",
       "      <td>day</td>\n",
       "      <td>313</td>\n",
       "    </tr>\n",
       "    <tr>\n",
       "      <th>1</th>\n",
       "      <td>leads</td>\n",
       "      <td>805</td>\n",
       "    </tr>\n",
       "    <tr>\n",
       "      <th>2</th>\n",
       "      <td>you</td>\n",
       "      <td>1799</td>\n",
       "    </tr>\n",
       "    <tr>\n",
       "      <th>3</th>\n",
       "      <td>to</td>\n",
       "      <td>1562</td>\n",
       "    </tr>\n",
       "    <tr>\n",
       "      <th>4</th>\n",
       "      <td>think</td>\n",
       "      <td>1521</td>\n",
       "    </tr>\n",
       "    <tr>\n",
       "      <th>...</th>\n",
       "      <td>...</td>\n",
       "      <td>...</td>\n",
       "    </tr>\n",
       "    <tr>\n",
       "      <th>1813</th>\n",
       "      <td>people and</td>\n",
       "      <td>1108</td>\n",
       "    </tr>\n",
       "    <tr>\n",
       "      <th>1814</th>\n",
       "      <td>for that</td>\n",
       "      <td>496</td>\n",
       "    </tr>\n",
       "    <tr>\n",
       "      <th>1815</th>\n",
       "      <td>for him</td>\n",
       "      <td>490</td>\n",
       "    </tr>\n",
       "    <tr>\n",
       "      <th>1816</th>\n",
       "      <td>impressive</td>\n",
       "      <td>661</td>\n",
       "    </tr>\n",
       "    <tr>\n",
       "      <th>1817</th>\n",
       "      <td>meant to</td>\n",
       "      <td>894</td>\n",
       "    </tr>\n",
       "  </tbody>\n",
       "</table>\n",
       "<p>1818 rows × 2 columns</p>\n",
       "</div>"
      ],
      "text/plain": [
       "               0     1\n",
       "0            day   313\n",
       "1          leads   805\n",
       "2            you  1799\n",
       "3             to  1562\n",
       "4          think  1521\n",
       "...          ...   ...\n",
       "1813  people and  1108\n",
       "1814    for that   496\n",
       "1815     for him   490\n",
       "1816  impressive   661\n",
       "1817    meant to   894\n",
       "\n",
       "[1818 rows x 2 columns]"
      ]
     },
     "execution_count": 170,
     "metadata": {},
     "output_type": "execute_result"
    }
   ],
   "source": [
    "# 전치 함수를 활용해서 행과 열을 뒤집음\n",
    "df = df.T\n",
    "df"
   ]
  },
  {
   "cell_type": "code",
   "execution_count": 171,
   "id": "abcf5966",
   "metadata": {},
   "outputs": [
    {
     "data": {
      "text/html": [
       "<div>\n",
       "<style scoped>\n",
       "    .dataframe tbody tr th:only-of-type {\n",
       "        vertical-align: middle;\n",
       "    }\n",
       "\n",
       "    .dataframe tbody tr th {\n",
       "        vertical-align: top;\n",
       "    }\n",
       "\n",
       "    .dataframe thead th {\n",
       "        text-align: right;\n",
       "    }\n",
       "</style>\n",
       "<table border=\"1\" class=\"dataframe\">\n",
       "  <thead>\n",
       "    <tr style=\"text-align: right;\">\n",
       "      <th></th>\n",
       "      <th>0</th>\n",
       "      <th>1</th>\n",
       "    </tr>\n",
       "  </thead>\n",
       "  <tbody>\n",
       "    <tr>\n",
       "      <th>217</th>\n",
       "      <td>10</td>\n",
       "      <td>0</td>\n",
       "    </tr>\n",
       "    <tr>\n",
       "      <th>1609</th>\n",
       "      <td>20</td>\n",
       "      <td>1</td>\n",
       "    </tr>\n",
       "    <tr>\n",
       "      <th>265</th>\n",
       "      <td>30</td>\n",
       "      <td>2</td>\n",
       "    </tr>\n",
       "    <tr>\n",
       "      <th>597</th>\n",
       "      <td>able</td>\n",
       "      <td>3</td>\n",
       "    </tr>\n",
       "    <tr>\n",
       "      <th>636</th>\n",
       "      <td>able to</td>\n",
       "      <td>4</td>\n",
       "    </tr>\n",
       "    <tr>\n",
       "      <th>...</th>\n",
       "      <td>...</td>\n",
       "      <td>...</td>\n",
       "    </tr>\n",
       "    <tr>\n",
       "      <th>9</th>\n",
       "      <td>young</td>\n",
       "      <td>1813</td>\n",
       "    </tr>\n",
       "    <tr>\n",
       "      <th>1600</th>\n",
       "      <td>younger</td>\n",
       "      <td>1814</td>\n",
       "    </tr>\n",
       "    <tr>\n",
       "      <th>661</th>\n",
       "      <td>your</td>\n",
       "      <td>1815</td>\n",
       "    </tr>\n",
       "    <tr>\n",
       "      <th>668</th>\n",
       "      <td>your time</td>\n",
       "      <td>1816</td>\n",
       "    </tr>\n",
       "    <tr>\n",
       "      <th>85</th>\n",
       "      <td>yourself</td>\n",
       "      <td>1817</td>\n",
       "    </tr>\n",
       "  </tbody>\n",
       "</table>\n",
       "<p>1818 rows × 2 columns</p>\n",
       "</div>"
      ],
      "text/plain": [
       "              0     1\n",
       "217          10     0\n",
       "1609         20     1\n",
       "265          30     2\n",
       "597        able     3\n",
       "636     able to     4\n",
       "...         ...   ...\n",
       "9         young  1813\n",
       "1600    younger  1814\n",
       "661        your  1815\n",
       "668   your time  1816\n",
       "85     yourself  1817\n",
       "\n",
       "[1818 rows x 2 columns]"
      ]
     },
     "execution_count": 171,
     "metadata": {},
     "output_type": "execute_result"
    }
   ],
   "source": [
    "# 1번 컬럼의 값을 기준으로 오름차순 정렬\n",
    "df_sorted = df.sort_values(by = 1)\n",
    "df_sorted"
   ]
  },
  {
   "cell_type": "code",
   "execution_count": 172,
   "id": "25f74934",
   "metadata": {},
   "outputs": [],
   "source": [
    "df_sorted['coef'] = word_weight.reshape(-1)"
   ]
  },
  {
   "cell_type": "code",
   "execution_count": 173,
   "id": "7e1756ca",
   "metadata": {},
   "outputs": [
    {
     "data": {
      "text/html": [
       "<div>\n",
       "<style scoped>\n",
       "    .dataframe tbody tr th:only-of-type {\n",
       "        vertical-align: middle;\n",
       "    }\n",
       "\n",
       "    .dataframe tbody tr th {\n",
       "        vertical-align: top;\n",
       "    }\n",
       "\n",
       "    .dataframe thead th {\n",
       "        text-align: right;\n",
       "    }\n",
       "</style>\n",
       "<table border=\"1\" class=\"dataframe\">\n",
       "  <thead>\n",
       "    <tr style=\"text-align: right;\">\n",
       "      <th></th>\n",
       "      <th>0</th>\n",
       "      <th>1</th>\n",
       "      <th>coef</th>\n",
       "    </tr>\n",
       "  </thead>\n",
       "  <tbody>\n",
       "    <tr>\n",
       "      <th>217</th>\n",
       "      <td>10</td>\n",
       "      <td>0</td>\n",
       "      <td>0.004299</td>\n",
       "    </tr>\n",
       "    <tr>\n",
       "      <th>1609</th>\n",
       "      <td>20</td>\n",
       "      <td>1</td>\n",
       "      <td>-0.106180</td>\n",
       "    </tr>\n",
       "    <tr>\n",
       "      <th>265</th>\n",
       "      <td>30</td>\n",
       "      <td>2</td>\n",
       "      <td>0.034477</td>\n",
       "    </tr>\n",
       "    <tr>\n",
       "      <th>597</th>\n",
       "      <td>able</td>\n",
       "      <td>3</td>\n",
       "      <td>-0.020460</td>\n",
       "    </tr>\n",
       "    <tr>\n",
       "      <th>636</th>\n",
       "      <td>able to</td>\n",
       "      <td>4</td>\n",
       "      <td>-0.020460</td>\n",
       "    </tr>\n",
       "    <tr>\n",
       "      <th>...</th>\n",
       "      <td>...</td>\n",
       "      <td>...</td>\n",
       "      <td>...</td>\n",
       "    </tr>\n",
       "    <tr>\n",
       "      <th>9</th>\n",
       "      <td>young</td>\n",
       "      <td>1813</td>\n",
       "      <td>0.031144</td>\n",
       "    </tr>\n",
       "    <tr>\n",
       "      <th>1600</th>\n",
       "      <td>younger</td>\n",
       "      <td>1814</td>\n",
       "      <td>0.124821</td>\n",
       "    </tr>\n",
       "    <tr>\n",
       "      <th>661</th>\n",
       "      <td>your</td>\n",
       "      <td>1815</td>\n",
       "      <td>-0.050169</td>\n",
       "    </tr>\n",
       "    <tr>\n",
       "      <th>668</th>\n",
       "      <td>your time</td>\n",
       "      <td>1816</td>\n",
       "      <td>-0.047904</td>\n",
       "    </tr>\n",
       "    <tr>\n",
       "      <th>85</th>\n",
       "      <td>yourself</td>\n",
       "      <td>1817</td>\n",
       "      <td>-0.074725</td>\n",
       "    </tr>\n",
       "  </tbody>\n",
       "</table>\n",
       "<p>1818 rows × 3 columns</p>\n",
       "</div>"
      ],
      "text/plain": [
       "              0     1      coef\n",
       "217          10     0  0.004299\n",
       "1609         20     1 -0.106180\n",
       "265          30     2  0.034477\n",
       "597        able     3 -0.020460\n",
       "636     able to     4 -0.020460\n",
       "...         ...   ...       ...\n",
       "9         young  1813  0.031144\n",
       "1600    younger  1814  0.124821\n",
       "661        your  1815 -0.050169\n",
       "668   your time  1816 -0.047904\n",
       "85     yourself  1817 -0.074725\n",
       "\n",
       "[1818 rows x 3 columns]"
      ]
     },
     "execution_count": 173,
     "metadata": {},
     "output_type": "execute_result"
    }
   ],
   "source": [
    "df_sorted"
   ]
  },
  {
   "cell_type": "code",
   "execution_count": 174,
   "id": "be75467d",
   "metadata": {},
   "outputs": [],
   "source": [
    "df_sorted.sort_values(by = 'coef', inplace = True)"
   ]
  },
  {
   "cell_type": "code",
   "execution_count": 175,
   "id": "bc38c2a1",
   "metadata": {},
   "outputs": [
    {
     "data": {
      "text/html": [
       "<div>\n",
       "<style scoped>\n",
       "    .dataframe tbody tr th:only-of-type {\n",
       "        vertical-align: middle;\n",
       "    }\n",
       "\n",
       "    .dataframe tbody tr th {\n",
       "        vertical-align: top;\n",
       "    }\n",
       "\n",
       "    .dataframe thead th {\n",
       "        text-align: right;\n",
       "    }\n",
       "</style>\n",
       "<table border=\"1\" class=\"dataframe\">\n",
       "  <thead>\n",
       "    <tr style=\"text-align: right;\">\n",
       "      <th></th>\n",
       "      <th>0</th>\n",
       "      <th>1</th>\n",
       "      <th>coef</th>\n",
       "    </tr>\n",
       "  </thead>\n",
       "  <tbody>\n",
       "    <tr>\n",
       "      <th>78</th>\n",
       "      <td>bad</td>\n",
       "      <td>156</td>\n",
       "      <td>-0.346888</td>\n",
       "    </tr>\n",
       "    <tr>\n",
       "      <th>1207</th>\n",
       "      <td>awful</td>\n",
       "      <td>151</td>\n",
       "      <td>-0.329484</td>\n",
       "    </tr>\n",
       "    <tr>\n",
       "      <th>467</th>\n",
       "      <td>worst</td>\n",
       "      <td>1780</td>\n",
       "      <td>-0.265895</td>\n",
       "    </tr>\n",
       "    <tr>\n",
       "      <th>1001</th>\n",
       "      <td>actress</td>\n",
       "      <td>20</td>\n",
       "      <td>-0.261336</td>\n",
       "    </tr>\n",
       "    <tr>\n",
       "      <th>7</th>\n",
       "      <td>why</td>\n",
       "      <td>1748</td>\n",
       "      <td>-0.252723</td>\n",
       "    </tr>\n",
       "    <tr>\n",
       "      <th>...</th>\n",
       "      <td>...</td>\n",
       "      <td>...</td>\n",
       "      <td>...</td>\n",
       "    </tr>\n",
       "    <tr>\n",
       "      <th>34</th>\n",
       "      <td>perfect</td>\n",
       "      <td>1110</td>\n",
       "      <td>0.235935</td>\n",
       "    </tr>\n",
       "    <tr>\n",
       "      <th>154</th>\n",
       "      <td>that there</td>\n",
       "      <td>1400</td>\n",
       "      <td>0.251360</td>\n",
       "    </tr>\n",
       "    <tr>\n",
       "      <th>934</th>\n",
       "      <td>feel</td>\n",
       "      <td>444</td>\n",
       "      <td>0.268601</td>\n",
       "    </tr>\n",
       "    <tr>\n",
       "      <th>922</th>\n",
       "      <td>enjoy</td>\n",
       "      <td>383</td>\n",
       "      <td>0.276861</td>\n",
       "    </tr>\n",
       "    <tr>\n",
       "      <th>401</th>\n",
       "      <td>great</td>\n",
       "      <td>556</td>\n",
       "      <td>0.333324</td>\n",
       "    </tr>\n",
       "  </tbody>\n",
       "</table>\n",
       "<p>1818 rows × 3 columns</p>\n",
       "</div>"
      ],
      "text/plain": [
       "               0     1      coef\n",
       "78           bad   156 -0.346888\n",
       "1207       awful   151 -0.329484\n",
       "467        worst  1780 -0.265895\n",
       "1001     actress    20 -0.261336\n",
       "7            why  1748 -0.252723\n",
       "...          ...   ...       ...\n",
       "34       perfect  1110  0.235935\n",
       "154   that there  1400  0.251360\n",
       "934         feel   444  0.268601\n",
       "922        enjoy   383  0.276861\n",
       "401        great   556  0.333324\n",
       "\n",
       "[1818 rows x 3 columns]"
      ]
     },
     "execution_count": 175,
     "metadata": {},
     "output_type": "execute_result"
    }
   ],
   "source": [
    "df_sorted"
   ]
  },
  {
   "cell_type": "code",
   "execution_count": 176,
   "id": "6c90fc85",
   "metadata": {},
   "outputs": [],
   "source": [
    "# 시각화\n",
    "top30_df = pd.concat([\n",
    "    df_sorted.head(30), # 부정단어 30개\n",
    "    df_sorted.tail(30) # 긍정단어 30개\n",
    "])"
   ]
  },
  {
   "cell_type": "code",
   "execution_count": 177,
   "id": "90484b16",
   "metadata": {},
   "outputs": [
    {
     "data": {
      "image/png": "[encoded data removed]",
      "text/plain": [
       "<Figure size 1080x360 with 1 Axes>"
      ]
     },
     "metadata": {
      "needs_background": "light"
     },
     "output_type": "display_data"
    }
   ],
   "source": [
    "import matplotlib.pyplot as plt\n",
    "plt.figure(figsize=(15,5)) # 가로,세로 비율\n",
    "plt.bar(top30_df[0], top30_df['coef']) # x축은 단어, y축은 가중치\n",
    "plt.xticks(rotation = 90) # x축 눈금 각도 조정\n",
    "plt.show()"
   ]
  },
  {
   "cell_type": "code",
   "execution_count": null,
   "id": "fa82ce67",
   "metadata": {},
   "outputs": [],
   "source": []
  },
  {
   "cell_type": "code",
   "execution_count": null,
   "id": "bc245166",
   "metadata": {},
   "outputs": [],
   "source": []
  },
  {
   "cell_type": "code",
   "execution_count": null,
   "id": "4f8266d5",
   "metadata": {},
   "outputs": [],
   "source": []
  },
  {
   "cell_type": "code",
   "execution_count": null,
   "id": "fd69d8b4",
   "metadata": {},
   "outputs": [],
   "source": []
  },
  {
   "cell_type": "code",
   "execution_count": null,
   "id": "9fe8c68e",
   "metadata": {},
   "outputs": [],
   "source": []
  },
  {
   "cell_type": "code",
   "execution_count": null,
   "id": "ef02447f",
   "metadata": {},
   "outputs": [],
   "source": []
  },
  {
   "cell_type": "code",
   "execution_count": null,
   "id": "1e9bb01d",
   "metadata": {},
   "outputs": [],
   "source": []
  },
  {
   "cell_type": "code",
   "execution_count": null,
   "id": "493f6ede",
   "metadata": {},
   "outputs": [],
   "source": []
  },
  {
   "cell_type": "code",
   "execution_count": null,
   "id": "c744974e",
   "metadata": {},
   "outputs": [],
   "source": []
  },
  {
   "cell_type": "code",
   "execution_count": null,
   "id": "1f887e31",
   "metadata": {},
   "outputs": [],
   "source": []
  },
  {
   "cell_type": "code",
   "execution_count": null,
   "id": "8b1719d6",
   "metadata": {},
   "outputs": [],
   "source": []
  },
  {
   "cell_type": "code",
   "execution_count": null,
   "id": "948427fc",
   "metadata": {},
   "outputs": [],
   "source": []
  },
  {
   "cell_type": "code",
   "execution_count": null,
   "id": "d4da6bef",
   "metadata": {},
   "outputs": [],
   "source": []
  },
  {
   "cell_type": "code",
   "execution_count": null,
   "id": "af640099",
   "metadata": {},
   "outputs": [],
   "source": []
  },
  {
   "cell_type": "code",
   "execution_count": null,
   "id": "43d18916",
   "metadata": {},
   "outputs": [],
   "source": []
  },
  {
   "cell_type": "code",
   "execution_count": null,
   "id": "2bf26b3d",
   "metadata": {},
   "outputs": [],
   "source": []
  },
  {
   "cell_type": "code",
   "execution_count": null,
   "id": "e58e6923",
   "metadata": {},
   "outputs": [],
   "source": []
  },
  {
   "cell_type": "code",
   "execution_count": null,
   "id": "cb28d28f",
   "metadata": {},
   "outputs": [],
   "source": []
  },
  {
   "cell_type": "code",
   "execution_count": null,
   "id": "136c6916",
   "metadata": {},
   "outputs": [],
   "source": []
  },
  {
   "cell_type": "code",
   "execution_count": null,
   "id": "45aebf1d",
   "metadata": {},
   "outputs": [],
   "source": []
  },
  {
   "cell_type": "code",
   "execution_count": null,
   "id": "011faaef",
   "metadata": {},
   "outputs": [],
   "source": []
  },
  {
   "cell_type": "code",
   "execution_count": null,
   "id": "93f5892b",
   "metadata": {},
   "outputs": [],
   "source": []
  },
  {
   "cell_type": "code",
   "execution_count": null,
   "id": "88298abc",
   "metadata": {},
   "outputs": [],
   "source": []
  },
  {
   "cell_type": "code",
   "execution_count": null,
   "id": "45ad33b9",
   "metadata": {},
   "outputs": [],
   "source": []
  },
  {
   "cell_type": "code",
   "execution_count": null,
   "id": "00abde7c",
   "metadata": {},
   "outputs": [],
   "source": []
  },
  {
   "cell_type": "code",
   "execution_count": null,
   "id": "4ccb7615",
   "metadata": {},
   "outputs": [],
   "source": []
  },
  {
   "cell_type": "code",
   "execution_count": null,
   "id": "887b334b",
   "metadata": {},
   "outputs": [],
   "source": []
  },
  {
   "cell_type": "code",
   "execution_count": null,
   "id": "47f2f4ec",
   "metadata": {},
   "outputs": [],
   "source": []
  },
  {
   "cell_type": "code",
   "execution_count": null,
   "id": "ba72687a",
   "metadata": {},
   "outputs": [],
   "source": []
  },
  {
   "cell_type": "code",
   "execution_count": null,
   "id": "933d4579",
   "metadata": {},
   "outputs": [],
   "source": []
  },
  {
   "cell_type": "code",
   "execution_count": null,
   "id": "3867ab53",
   "metadata": {},
   "outputs": [],
   "source": []
  },
  {
   "cell_type": "code",
   "execution_count": null,
   "id": "ebfcdaef",
   "metadata": {},
   "outputs": [],
   "source": []
  },
  {
   "cell_type": "code",
   "execution_count": null,
   "id": "6eae792b",
   "metadata": {},
   "outputs": [],
   "source": []
  },
  {
   "cell_type": "code",
   "execution_count": null,
   "id": "f60831ba",
   "metadata": {},
   "outputs": [],
   "source": []
  },
  {
   "cell_type": "code",
   "execution_count": null,
   "id": "b8ba414c",
   "metadata": {},
   "outputs": [],
   "source": []
  },
  {
   "cell_type": "code",
   "execution_count": null,
   "id": "ce75e438",
   "metadata": {},
   "outputs": [],
   "source": []
  },
  {
   "cell_type": "code",
   "execution_count": null,
   "id": "4a05f93f",
   "metadata": {},
   "outputs": [],
   "source": []
  },
  {
   "cell_type": "code",
   "execution_count": null,
   "id": "dabf04af",
   "metadata": {},
   "outputs": [],
   "source": []
  },
  {
   "cell_type": "code",
   "execution_count": null,
   "id": "051e2fd8",
   "metadata": {},
   "outputs": [],
   "source": []
  },
  {
   "cell_type": "code",
   "execution_count": null,
   "id": "69439c72",
   "metadata": {},
   "outputs": [],
   "source": []
  },
  {
   "cell_type": "code",
   "execution_count": null,
   "id": "33277146",
   "metadata": {},
   "outputs": [],
   "source": []
  },
  {
   "cell_type": "code",
   "execution_count": null,
   "id": "8ed01c2d",
   "metadata": {},
   "outputs": [],
   "source": []
  },
  {
   "cell_type": "code",
   "execution_count": null,
   "id": "38033f4c",
   "metadata": {},
   "outputs": [],
   "source": []
  },
  {
   "cell_type": "code",
   "execution_count": null,
   "id": "92eac949",
   "metadata": {},
   "outputs": [],
   "source": []
  },
  {
   "cell_type": "code",
   "execution_count": null,
   "id": "4875b903",
   "metadata": {},
   "outputs": [],
   "source": []
  },
  {
   "cell_type": "code",
   "execution_count": null,
   "id": "1b3b9bff",
   "metadata": {},
   "outputs": [],
   "source": []
  },
  {
   "cell_type": "code",
   "execution_count": null,
   "id": "41151ad5",
   "metadata": {},
   "outputs": [],
   "source": []
  },
  {
   "cell_type": "code",
   "execution_count": null,
   "id": "1a07bab0",
   "metadata": {},
   "outputs": [],
   "source": []
  },
  {
   "cell_type": "code",
   "execution_count": null,
   "id": "b3ccdd82",
   "metadata": {},
   "outputs": [],
   "source": []
  },
  {
   "cell_type": "code",
   "execution_count": null,
   "id": "54c3f6c5",
   "metadata": {},
   "outputs": [],
   "source": []
  },
  {
   "cell_type": "code",
   "execution_count": null,
   "id": "5d44c012",
   "metadata": {},
   "outputs": [],
   "source": []
  },
  {
   "cell_type": "code",
   "execution_count": null,
   "id": "1d565af7",
   "metadata": {},
   "outputs": [],
   "source": []
  },
  {
   "cell_type": "code",
   "execution_count": null,
   "id": "0613191f",
   "metadata": {},
   "outputs": [],
   "source": []
  },
  {
   "cell_type": "code",
   "execution_count": null,
   "id": "7a22e35b",
   "metadata": {},
   "outputs": [],
   "source": []
  },
  {
   "cell_type": "code",
   "execution_count": null,
   "id": "702991d9",
   "metadata": {},
   "outputs": [],
   "source": []
  },
  {
   "cell_type": "code",
   "execution_count": null,
   "id": "b5a31b0f",
   "metadata": {},
   "outputs": [],
   "source": []
  },
  {
   "cell_type": "code",
   "execution_count": null,
   "id": "72e9f843",
   "metadata": {},
   "outputs": [],
   "source": []
  },
  {
   "cell_type": "code",
   "execution_count": null,
   "id": "b126a7cb",
   "metadata": {},
   "outputs": [],
   "source": []
  },
  {
   "cell_type": "code",
   "execution_count": null,
   "id": "ff63f746",
   "metadata": {},
   "outputs": [],
   "source": []
  },
  {
   "cell_type": "code",
   "execution_count": null,
   "id": "e7f2c15d",
   "metadata": {},
   "outputs": [],
   "source": []
  },
  {
   "cell_type": "code",
   "execution_count": null,
   "id": "8479e9d9",
   "metadata": {},
   "outputs": [],
   "source": []
  },
  {
   "cell_type": "code",
   "execution_count": null,
   "id": "ed42aeb9",
   "metadata": {},
   "outputs": [],
   "source": []
  },
  {
   "cell_type": "code",
   "execution_count": null,
   "id": "74126556",
   "metadata": {},
   "outputs": [],
   "source": []
  },
  {
   "cell_type": "code",
   "execution_count": null,
   "id": "1eb8982e",
   "metadata": {},
   "outputs": [],
   "source": []
  },
  {
   "cell_type": "code",
   "execution_count": null,
   "id": "6d33e810",
   "metadata": {},
   "outputs": [],
   "source": []
  },
  {
   "cell_type": "code",
   "execution_count": null,
   "id": "c28521f6",
   "metadata": {},
   "outputs": [],
   "source": []
  },
  {
   "cell_type": "code",
   "execution_count": null,
   "id": "22b39b0a",
   "metadata": {},
   "outputs": [],
   "source": []
  },
  {
   "cell_type": "code",
   "execution_count": null,
   "id": "6e6ec8f4",
   "metadata": {},
   "outputs": [],
   "source": []
  },
  {
   "cell_type": "code",
   "execution_count": null,
   "id": "b40ac930",
   "metadata": {},
   "outputs": [],
   "source": []
  },
  {
   "cell_type": "code",
   "execution_count": null,
   "id": "0e39d8af",
   "metadata": {},
   "outputs": [],
   "source": []
  },
  {
   "cell_type": "code",
   "execution_count": null,
   "id": "e5d38fcd",
   "metadata": {},
   "outputs": [],
   "source": []
  },
  {
   "cell_type": "code",
   "execution_count": null,
   "id": "8a704b1b",
   "metadata": {},
   "outputs": [],
   "source": []
  },
  {
   "cell_type": "code",
   "execution_count": null,
   "id": "76b74150",
   "metadata": {},
   "outputs": [],
   "source": []
  },
  {
   "cell_type": "code",
   "execution_count": null,
   "id": "5c66e4ae",
   "metadata": {},
   "outputs": [],
   "source": []
  },
  {
   "cell_type": "code",
   "execution_count": null,
   "id": "a6a8fd82",
   "metadata": {},
   "outputs": [],
   "source": []
  },
  {
   "cell_type": "code",
   "execution_count": null,
   "id": "91e9bac9",
   "metadata": {},
   "outputs": [],
   "source": []
  },
  {
   "cell_type": "code",
   "execution_count": null,
   "id": "80573a17",
   "metadata": {},
   "outputs": [],
   "source": []
  }
 ],
 "metadata": {
  "kernelspec": {
   "display_name": "Python 3 (ipykernel)",
   "language": "python",
   "name": "python3"
  },
  "language_info": {
   "codemirror_mode": {
    "name": "ipython",
    "version": 3
   },
   "file_extension": ".py",
   "mimetype": "text/x-python",
   "name": "python",
   "nbconvert_exporter": "python",
   "pygments_lexer": "ipython3",
   "version": "3.9.7"
  },
  "toc": {
   "base_numbering": 1,
   "nav_menu": {},
   "number_sections": true,
   "sideBar": true,
   "skip_h1_title": false,
   "title_cell": "Table of Contents",
   "title_sidebar": "Contents",
   "toc_cell": false,
   "toc_position": {
    "height": "calc(100% - 180px)",
    "left": "10px",
    "top": "150px",
    "width": "239.492px"
   },
   "toc_section_display": true,
   "toc_window_display": true
  }
 },
 "nbformat": 4,
 "nbformat_minor": 5
}
